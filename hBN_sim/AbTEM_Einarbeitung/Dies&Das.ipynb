{
 "cells": [
  {
   "cell_type": "code",
   "execution_count": 2,
   "id": "298ec40a-61ae-4b8f-81c1-24814cf58870",
   "metadata": {},
   "outputs": [],
   "source": [
    "import numpy as np"
   ]
  },
  {
   "cell_type": "markdown",
   "id": "0e82deec-cd66-4308-a4bd-b3a1c0af1877",
   "metadata": {},
   "source": [
    "## happy indexing"
   ]
  },
  {
   "cell_type": "code",
   "execution_count": 6,
   "id": "c4d41e54-e319-474b-83c3-6716168521cb",
   "metadata": {},
   "outputs": [
    {
     "name": "stdout",
     "output_type": "stream",
     "text": [
      "Shape: (165, 3)\n"
     ]
    },
    {
     "data": {
      "text/plain": [
       "array([[0.07440807, 0.04122917, 0.51645126],\n",
       "       [0.75154144, 0.87487479, 0.37576749],\n",
       "       [0.42798919, 0.62860552, 0.83137982],\n",
       "       [0.70952365, 0.99451719, 0.09699096]])"
      ]
     },
     "execution_count": 6,
     "metadata": {},
     "output_type": "execute_result"
    }
   ],
   "source": [
    "#random z.b. 165 ortskoordinaten generieren\n",
    "a = np.random.rand(165,3)\n",
    "print(f'Shape: {a.shape}')\n",
    "a[:4]"
   ]
  },
  {
   "cell_type": "code",
   "execution_count": 9,
   "id": "e6151dbb-05fa-4de3-a733-d602145053cd",
   "metadata": {},
   "outputs": [
    {
     "data": {
      "text/plain": [
       "165"
      ]
     },
     "execution_count": 9,
     "metadata": {},
     "output_type": "execute_result"
    }
   ],
   "source": [
    "#nur erste spalte (quasi x koordinaten z.b.)\n",
    "x_coord = a[:,0]\n",
    "len(x_coord)"
   ]
  },
  {
   "cell_type": "code",
   "execution_count": 12,
   "id": "121d7aba-b587-4f92-aa7a-ded22a9353a4",
   "metadata": {},
   "outputs": [
    {
     "data": {
      "text/plain": [
       "array([[0.07440807, 0.04122917],\n",
       "       [0.75154144, 0.87487479],\n",
       "       [0.42798919, 0.62860552]])"
      ]
     },
     "execution_count": 12,
     "metadata": {},
     "output_type": "execute_result"
    }
   ],
   "source": [
    "#auch\n",
    "xy_bis3 = a[:3, :2]\n",
    "xy_bis3"
   ]
  },
  {
   "cell_type": "markdown",
   "id": "9aa0fc08-f2ce-4091-ad65-bffbc3f5ddc3",
   "metadata": {},
   "source": [
    "## np.all, np.any"
   ]
  },
  {
   "cell_type": "code",
   "execution_count": 14,
   "id": "e590a509-b501-4376-8feb-7772ac740b40",
   "metadata": {},
   "outputs": [
    {
     "data": {
      "text/plain": [
       "array([False, False, False, False, False, False, False, False, False,\n",
       "       False, False, False, False, False, False, False, False, False,\n",
       "       False, False, False, False, False, False, False, False, False,\n",
       "       False, False, False, False, False, False, False, False, False,\n",
       "       False, False, False, False, False, False, False, False, False,\n",
       "       False, False, False, False, False, False, False, False, False,\n",
       "       False, False, False, False, False, False, False, False, False,\n",
       "       False, False, False, False, False, False, False, False, False,\n",
       "       False, False, False, False, False, False, False, False, False,\n",
       "       False, False, False, False, False, False, False, False, False,\n",
       "       False, False, False, False, False, False, False, False, False,\n",
       "       False, False, False, False, False, False, False, False, False,\n",
       "       False, False, False, False, False, False, False, False, False,\n",
       "       False, False, False, False, False, False, False, False, False,\n",
       "       False, False, False, False, False, False, False, False, False,\n",
       "       False, False, False, False, False, False, False, False, False,\n",
       "       False, False, False, False, False, False, False, False, False,\n",
       "       False, False, False, False, False, False, False, False, False,\n",
       "       False, False,  True])"
      ]
     },
     "execution_count": 14,
     "metadata": {},
     "output_type": "execute_result"
    }
   ],
   "source": [
    "specific_position = a[-1]\n",
    "mask = np.all((a == specific_position), axis=1)\n",
    "#alle 3 koordinaten müssen gleich sein -> np.all mit axis=1 hier zeilen, axis=0 wären spalten\n",
    "\n",
    "mask"
   ]
  },
  {
   "cell_type": "code",
   "execution_count": 34,
   "id": "efad6396-4c0b-4ffe-8efd-fe8f32ef5339",
   "metadata": {},
   "outputs": [
    {
     "name": "stdout",
     "output_type": "stream",
     "text": [
      "step1:\n",
      " [[False False False]\n",
      " [False False False]\n",
      " [ True  True  True]]\n",
      "\n",
      "step2:\n",
      " [[False False False]\n",
      " [False False False]\n",
      " [ True  True False]]\n",
      "\n",
      "step3:\n",
      " [False False False False]\n",
      "\n",
      "step3:\n",
      "any? False\n",
      "\n"
     ]
    }
   ],
   "source": [
    "mask1 = a == specific_position\n",
    "print(f'step1:\\n {mask1[-3:]}\\n')\n",
    "\n",
    "mask1[-1,2] = False\n",
    "print(f'step2:\\n {mask1[-3:]}\\n')\n",
    "\n",
    "helper = np.all(mask1, axis=1) #schaut, ob in jeder Zeile alle gleich sind -> nur mehr array shape (165)\n",
    "print(f'step3:\\n {helper[-4:]}\\n')\n",
    "\n",
    "any = np.any(helper)#schaut, obs irgendwo im array einen True-Wert gibt\n",
    "print(f'step3:\\nany? {any}\\n')\n"
   ]
  },
  {
   "cell_type": "markdown",
   "id": "67000e99-f838-4d5a-914e-74bdfc5519a2",
   "metadata": {},
   "source": [
    "### np.where"
   ]
  },
  {
   "cell_type": "code",
   "execution_count": 13,
   "id": "98ca8e51-4a41-4824-9869-6c0576f79d67",
   "metadata": {},
   "outputs": [
    {
     "name": "stdout",
     "output_type": "stream",
     "text": [
      "b= [2 3 4 5 6 7 8 9]\n",
      "np.where: (array([0, 1, 2], dtype=int64),)\n"
     ]
    }
   ],
   "source": [
    "#np.where(condition, x, y)\n",
    "b = np.arange(2,10)\n",
    "print(f'b= {b}')\n",
    "#...entweder nur condition angeben, dann spuckt es array mit INDIZES der zutreffenden elementen aus\n",
    "print(f'np.where: {np.where(b<5)}')"
   ]
  },
  {
   "cell_type": "code",
   "execution_count": 11,
   "id": "02a67493-4493-4a2d-9a8f-a5271cc9c5cf",
   "metadata": {},
   "outputs": [
    {
     "data": {
      "text/plain": [
       "array([ 2, 30,  4, 50,  6, 70,  8, 90])"
      ]
     },
     "execution_count": 11,
     "metadata": {},
     "output_type": "execute_result"
    }
   ],
   "source": [
    "#..oder x, y [beide oder nix!] angeben.. ähnlich WENN-DANN funktion.. -> spuckt ELEMENTE aus\n",
    "#'dort wo condition zutrifft mach x mit den elementen, dort wo nicht zutrifft mach y'\n",
    "\n",
    "np.where(b%2==0, b, b*10)"
   ]
  }
 ],
 "metadata": {
  "kernelspec": {
   "display_name": "Python 3 (ipykernel)",
   "language": "python",
   "name": "python3"
  },
  "language_info": {
   "codemirror_mode": {
    "name": "ipython",
    "version": 3
   },
   "file_extension": ".py",
   "mimetype": "text/x-python",
   "name": "python",
   "nbconvert_exporter": "python",
   "pygments_lexer": "ipython3",
   "version": "3.9.19"
  }
 },
 "nbformat": 4,
 "nbformat_minor": 5
}
