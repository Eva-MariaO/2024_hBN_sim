{
 "cells": [
  {
   "cell_type": "code",
   "execution_count": 1,
   "id": "7fefef43-66ec-402a-85da-511145a1dd26",
   "metadata": {},
   "outputs": [
    {
     "name": "stdout",
     "output_type": "stream",
     "text": [
      "test2\n"
     ]
    },
    {
     "data": {
      "text/plain": [
       "<dask.config.set at 0x7f2c2ecadaf0>"
      ]
     },
     "execution_count": 1,
     "metadata": {},
     "output_type": "execute_result"
    }
   ],
   "source": [
    "import numpy as np\n",
    "import pandas as pd\n",
    "import matplotlib.pyplot as plt\n",
    "import abtem\n",
    "import ase\n",
    "import dask\n",
    "import itertools\n",
    "\n",
    "from helper_funcs import timeformat\n",
    "from hBN_simulation import simulation\n",
    "\n",
    "#setting configuration\n",
    "abtem.config.set({\"device\": \"gpu\", \"fft\": \"fftw\"})\n",
    "dask.config.set({\"num_workers\": 1})"
   ]
  },
  {
   "cell_type": "code",
   "execution_count": 18,
   "id": "7c6d305a-846a-4875-8a74-86ab1483e246",
   "metadata": {},
   "outputs": [],
   "source": [
    "# Parameters and Settings\n",
    "\n",
    "#----------------------------------------------------------------------------------------\n",
    "# VARIABLES for simulation\n",
    "vacancy_atom = ['B', 'N'] # enter 'N' for replacement of N-atom, or 'B' for replacement of B-atom\n",
    "defect_atom_symbol = ['O', 'C', 'N', 'B', 'Si'] # symbol of impurity atom(s)\n",
    "defect_type = ['single', 'double'] #'ring'] #'single'/'double'/'ring' for calculating potential etc with single/double defect or ring structure\n",
    "\n",
    "#abberrations: [default: Cs = -10e-6*1e10; astig = 10; coma = 1000]\n",
    "astig = [0, 15, 25] #25 aberration C12, ~few nanometers\n",
    "astig_angle = [-0.3, 0, 0.3] #+/-0.3 #rad\n",
    "coma = [0, 1000, 1500] #1000 aberration C21, ~few hundred nanometers\n",
    "\n",
    "#-----------------------------------------------------------------------------------------\n",
    "\n",
    "\n"
   ]
  },
  {
   "cell_type": "code",
   "execution_count": null,
   "id": "07500122-bbce-4a36-8bae-f01e613253fd",
   "metadata": {},
   "outputs": [],
   "source": [
    "#SINGLE simulation\n",
    "simulation()"
   ]
  },
  {
   "cell_type": "code",
   "execution_count": 19,
   "id": "749e48fe-fc8a-4d7b-bb85-e518a31ecf54",
   "metadata": {},
   "outputs": [
    {
     "name": "stdout",
     "output_type": "stream",
     "text": [
      "810\n"
     ]
    }
   ],
   "source": [
    "#simulation SERIES: iteration trough all variations\n",
    "count = 0\n",
    "for i, j, k, l, m, n in itertools.product(\n",
    "    vacancy_atom, defect_atom_symbol, defect_type, astig, astig_angle, coma):\n",
    "    #simulation(vacancy_atom=i, defect_atom_symbol=j, defect_type=k, astig=l, \n",
    "    #           astig_angle=m, coma=n)\n",
    "    count += 1\n",
    "    \n",
    "print(f'number of simulations: {count})"
   ]
  },
  {
   "cell_type": "code",
   "execution_count": 9,
   "id": "50b62761-2f15-408c-b927-70232189c5a3",
   "metadata": {},
   "outputs": [
    {
     "name": "stdout",
     "output_type": "stream",
     "text": [
      "1\n",
      "2\n",
      "3\n",
      "4\n",
      "5\n",
      "5\n"
     ]
    }
   ],
   "source": [
    "#path\n",
    "timestamp = timeformat()\n",
    "path = (f'{timestamp}_hBN_size{size_x}x{size_y}_{defect_type}_vacany{vacancy_atom}_filledwith{defect_atom_symbol}_energy{int(energy_probe)}_defocus{defocus}_Cs{int(Cs)}_astig{astig}_astigangle{astig_angle}_coma{coma}')#_focal{int(focal_spread)}_ang{int(angular_spread)}')\n",
    "print(path)"
   ]
  },
  {
   "cell_type": "code",
   "execution_count": 5,
   "id": "0fdd2240-fdb7-434c-af68-a45ef5a8c002",
   "metadata": {},
   "outputs": [],
   "source": [
    "from helper_funcs import defect_indices, built_structure\n",
    "import importlib\n",
    "import helper_funcs"
   ]
  },
  {
   "cell_type": "code",
   "execution_count": 21,
   "id": "7dcb0d19-2f55-46b8-8ea1-d4276cd2d5c9",
   "metadata": {},
   "outputs": [
    {
     "data": {
      "text/plain": [
       "<module 'helper_funcs' from '/home/torchuser/data/evamaria/hBN_sim/helper_funcs.py'>"
      ]
     },
     "execution_count": 21,
     "metadata": {},
     "output_type": "execute_result"
    }
   ],
   "source": [
    "importlib.reload(helper_funcs)"
   ]
  },
  {
   "cell_type": "code",
   "execution_count": 14,
   "id": "e411430e-6822-46b6-83a9-eb8622b3334e",
   "metadata": {},
   "outputs": [
    {
     "data": {
      "text/plain": [
       "[97, 96, 69, 71, 98, 99]"
      ]
     },
     "execution_count": 14,
     "metadata": {},
     "output_type": "execute_result"
    }
   ],
   "source": [
    "hBN = built_structure(6,7)\n",
    "vac_atom = 'O'\n",
    "arr = defect_indices(hBN, vac_atom)\n",
    "ind1, ind2, ind3 = arr\n",
    "ind3"
   ]
  },
  {
   "cell_type": "code",
   "execution_count": 16,
   "id": "653d7827-1af5-43a8-a8f8-32f9080f7662",
   "metadata": {},
   "outputs": [],
   "source": [
    "\n",
    "#FIX\n",
    "lattice_constant = 2.504 # https://www.sciencedirect.com/science/article/abs/pii/S0025540815300088\n",
    "size_x = 20 #size of structure\n",
    "size_y = 17\n",
    "energy_probe = 60e3\n",
    "defocus = 0 # 0 or f.e.: 'scherzer'\n",
    "semiangle_cutoff = 30 \n",
    "Cs = -10e-6*1e10 #spherical aberration; 10 micrometers\n",
    "\n",
    "#VARIABLE\n",
    "vacancy_atom = ['B', 'N'] # enter 'N' for replacement of N-atom, or 'B' for replacement of B-atom\n",
    "defect_atom_symbol = ['O', 'C', 'N', 'B', 'Si'] # symbol of impurity atom(s)\n",
    "defect_type = ['single', 'double'] #'ring'] #'single'/'double'/'ring' defects\n",
    "\n",
    "#abberrations: [default: Cs = -10e-6*1e10; astig = 10; coma = 1000]\n",
    "astig = 0 #[0, 15, 25] #25 aberration C12, ~few nanometers\n",
    "astig_angle = 0 #[-0.3, 0, 0.3] #+/-0.3 #rad\n",
    "coma = 0 #[0, 1000, 1500] #1000 aberration C21, ~few hundred nanometers\n",
    "aberration_coefficients = {'C10': defocus, 'C30': Cs, 'C12': astig, 'C21': coma}"
   ]
  },
  {
   "cell_type": "code",
   "execution_count": 18,
   "id": "a0a337a7-8203-45ab-9088-7e3216c9f1f1",
   "metadata": {},
   "outputs": [
    {
     "name": "stdout",
     "output_type": "stream",
     "text": [
      "20240903170714_hBN_size20x17_single_vacanyB_filledwithO_energy60000_defocus0_Cs-100000_astig0_astigangle0_coma0\n",
      "20240903170714_hBN_size20x17_double_vacanyB_filledwithO_energy60000_defocus0_Cs-100000_astig0_astigangle0_coma0\n",
      "20240903170714_hBN_size20x17_single_vacanyB_filledwithC_energy60000_defocus0_Cs-100000_astig0_astigangle0_coma0\n",
      "20240903170714_hBN_size20x17_double_vacanyB_filledwithC_energy60000_defocus0_Cs-100000_astig0_astigangle0_coma0\n",
      "20240903170714_hBN_size20x17_single_vacanyB_filledwithN_energy60000_defocus0_Cs-100000_astig0_astigangle0_coma0\n",
      "20240903170714_hBN_size20x17_double_vacanyB_filledwithN_energy60000_defocus0_Cs-100000_astig0_astigangle0_coma0\n",
      "20240903170714_hBN_size20x17_single_vacanyB_filledwithB_energy60000_defocus0_Cs-100000_astig0_astigangle0_coma0\n",
      "20240903170714_hBN_size20x17_double_vacanyB_filledwithB_energy60000_defocus0_Cs-100000_astig0_astigangle0_coma0\n",
      "20240903170714_hBN_size20x17_single_vacanyB_filledwithSi_energy60000_defocus0_Cs-100000_astig0_astigangle0_coma0\n",
      "20240903170714_hBN_size20x17_double_vacanyB_filledwithSi_energy60000_defocus0_Cs-100000_astig0_astigangle0_coma0\n",
      "20240903170714_hBN_size20x17_single_vacanyN_filledwithO_energy60000_defocus0_Cs-100000_astig0_astigangle0_coma0\n",
      "20240903170714_hBN_size20x17_double_vacanyN_filledwithO_energy60000_defocus0_Cs-100000_astig0_astigangle0_coma0\n",
      "20240903170714_hBN_size20x17_single_vacanyN_filledwithC_energy60000_defocus0_Cs-100000_astig0_astigangle0_coma0\n",
      "20240903170714_hBN_size20x17_double_vacanyN_filledwithC_energy60000_defocus0_Cs-100000_astig0_astigangle0_coma0\n",
      "20240903170714_hBN_size20x17_single_vacanyN_filledwithN_energy60000_defocus0_Cs-100000_astig0_astigangle0_coma0\n",
      "20240903170714_hBN_size20x17_double_vacanyN_filledwithN_energy60000_defocus0_Cs-100000_astig0_astigangle0_coma0\n",
      "20240903170714_hBN_size20x17_single_vacanyN_filledwithB_energy60000_defocus0_Cs-100000_astig0_astigangle0_coma0\n",
      "20240903170714_hBN_size20x17_double_vacanyN_filledwithB_energy60000_defocus0_Cs-100000_astig0_astigangle0_coma0\n",
      "20240903170714_hBN_size20x17_single_vacanyN_filledwithSi_energy60000_defocus0_Cs-100000_astig0_astigangle0_coma0\n",
      "20240903170714_hBN_size20x17_double_vacanyN_filledwithSi_energy60000_defocus0_Cs-100000_astig0_astigangle0_coma0\n",
      "20\n"
     ]
    }
   ],
   "source": [
    "#path\n",
    "from helper_funcs import timeformat\n",
    "count = 0\n",
    "for atom in vacancy_atom:\n",
    "    for symbol in defect_atom_symbol:\n",
    "        for type in defect_type:\n",
    "            timestamp = timeformat()\n",
    "            path = (f'{timestamp}_hBN_size{size_x}x{size_y}_{type}_vacany{atom}_filledwith{symbol}_energy{int(energy_probe)}_defocus{defocus}_Cs{int(Cs)}_astig{astig}_astigangle{astig_angle}_coma{coma}')#_focal{int(focal_spread)}_ang{int(angular_spread)}')\n",
    "            print(path)\n",
    "            count += 1\n",
    "print(count)"
   ]
  },
  {
   "cell_type": "code",
   "execution_count": 22,
   "id": "87be1987-6bf0-4c7b-b751-6208bf65dde7",
   "metadata": {},
   "outputs": [],
   "source": [
    "import hBN_simulation"
   ]
  },
  {
   "cell_type": "code",
   "execution_count": 27,
   "id": "2be68af1-259b-4b90-8e6e-ee737cde975e",
   "metadata": {},
   "outputs": [
    {
     "name": "stdout",
     "output_type": "stream",
     "text": [
      "['20240903172742', '20x17', 'single', 'B', 'O', 60000, 0, 30, -100000, 0, 0, 0]\n",
      "1\n",
      "['20240903172743', '20x17', 'double', 'B', 'O', 60000, 0, 30, -100000, 0, 0, 0]\n",
      "2\n",
      "['20240903172744', '20x17', 'single', 'B', 'C', 60000, 0, 30, -100000, 0, 0, 0]\n",
      "3\n",
      "['20240903172745', '20x17', 'double', 'B', 'C', 60000, 0, 30, -100000, 0, 0, 0]\n",
      "4\n",
      "['20240903172746', '20x17', 'single', 'B', 'N', 60000, 0, 30, -100000, 0, 0, 0]\n",
      "5\n",
      "['20240903172747', '20x17', 'double', 'B', 'N', 60000, 0, 30, -100000, 0, 0, 0]\n",
      "6\n",
      "['20240903172748', '20x17', 'single', 'B', 'B', 60000, 0, 30, -100000, 0, 0, 0]\n",
      "7\n",
      "['20240903172749', '20x17', 'double', 'B', 'B', 60000, 0, 30, -100000, 0, 0, 0]\n",
      "8\n",
      "['20240903172750', '20x17', 'single', 'B', 'Si', 60000, 0, 30, -100000, 0, 0, 0]\n",
      "9\n",
      "['20240903172751', '20x17', 'double', 'B', 'Si', 60000, 0, 30, -100000, 0, 0, 0]\n",
      "10\n",
      "['20240903172752', '20x17', 'single', 'N', 'O', 60000, 0, 30, -100000, 0, 0, 0]\n",
      "11\n",
      "['20240903172753', '20x17', 'double', 'N', 'O', 60000, 0, 30, -100000, 0, 0, 0]\n",
      "12\n",
      "['20240903172754', '20x17', 'single', 'N', 'C', 60000, 0, 30, -100000, 0, 0, 0]\n",
      "13\n",
      "['20240903172755', '20x17', 'double', 'N', 'C', 60000, 0, 30, -100000, 0, 0, 0]\n",
      "14\n",
      "['20240903172756', '20x17', 'single', 'N', 'N', 60000, 0, 30, -100000, 0, 0, 0]\n",
      "15\n",
      "['20240903172757', '20x17', 'double', 'N', 'N', 60000, 0, 30, -100000, 0, 0, 0]\n",
      "16\n",
      "['20240903172758', '20x17', 'single', 'N', 'B', 60000, 0, 30, -100000, 0, 0, 0]\n",
      "17\n",
      "['20240903172759', '20x17', 'double', 'N', 'B', 60000, 0, 30, -100000, 0, 0, 0]\n",
      "18\n",
      "['20240903172800', '20x17', 'single', 'N', 'Si', 60000, 0, 30, -100000, 0, 0, 0]\n",
      "19\n",
      "['20240903172801', '20x17', 'double', 'N', 'Si', 60000, 0, 30, -100000, 0, 0, 0]\n",
      "20\n"
     ]
    }
   ],
   "source": [
    "%run hBN_simulation"
   ]
  },
  {
   "cell_type": "code",
   "execution_count": 28,
   "id": "2f4fe36e-cfdd-4120-adb5-a57cf256dbf3",
   "metadata": {},
   "outputs": [
    {
     "data": {
      "text/plain": [
       "12"
      ]
     },
     "execution_count": 28,
     "metadata": {},
     "output_type": "execute_result"
    }
   ],
   "source": [
    "variables_list = [timestamp, str(size_x) + 'x' + str(size_y), d_type, atom, symbol,\n",
    "                 int(energy_probe), defocus, semiangle_cutoff, int(Cs), astig, astig_angle, coma]\n",
    "len(variables_list)"
   ]
  },
  {
   "cell_type": "code",
   "execution_count": 51,
   "id": "5649308d-ae6d-4a5f-838e-c30defc506dd",
   "metadata": {},
   "outputs": [],
   "source": [
    "#df = pd.read_csv('./data/data_overview.csv')\n",
    "#df.loc[len(df.index)] = [value for value in variables_list]\n",
    "#df1 = df.drop(df.columns[0], axis=1)\n",
    "#df1.to_csv('./data/data_overview1.csv', index=False)"
   ]
  },
  {
   "cell_type": "code",
   "execution_count": 52,
   "id": "1f2409bd-081e-4334-98f7-4ad4c9dcd19a",
   "metadata": {},
   "outputs": [
    {
     "data": {
      "text/plain": [
       "(1, 12)"
      ]
     },
     "execution_count": 52,
     "metadata": {},
     "output_type": "execute_result"
    }
   ],
   "source": [
    "df_new = pd.read_csv('./data/data_overview.csv')\n",
    "df_new.shape"
   ]
  },
  {
   "cell_type": "code",
   "execution_count": null,
   "id": "76eaa1e4-4b13-4053-979c-ae9b3697b8cb",
   "metadata": {},
   "outputs": [],
   "source": []
  }
 ],
 "metadata": {
  "kernelspec": {
   "display_name": "Python 3 (ipykernel)",
   "language": "python",
   "name": "python3"
  },
  "language_info": {
   "codemirror_mode": {
    "name": "ipython",
    "version": 3
   },
   "file_extension": ".py",
   "mimetype": "text/x-python",
   "name": "python",
   "nbconvert_exporter": "python",
   "pygments_lexer": "ipython3",
   "version": "3.9.19"
  }
 },
 "nbformat": 4,
 "nbformat_minor": 5
}
