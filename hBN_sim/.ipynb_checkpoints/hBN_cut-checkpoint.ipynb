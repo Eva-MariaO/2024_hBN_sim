{
 "cells": [
  {
   "cell_type": "code",
   "execution_count": 70,
   "id": "58116657-9310-43a6-8f81-ff7addae7b99",
   "metadata": {
    "editable": true,
    "slideshow": {
     "slide_type": ""
    },
    "tags": []
   },
   "outputs": [],
   "source": [
    "import numpy as np\n",
    "import matplotlib.pyplot as plt\n",
    "import abtem\n",
    "import ase\n",
    "import dask\n",
    "\n",
    "from datetime import datetime"
   ]
  },
  {
   "cell_type": "code",
   "execution_count": 71,
   "id": "52780735-a631-43d2-a97d-d9107f45c58c",
   "metadata": {
    "editable": true,
    "slideshow": {
     "slide_type": ""
    },
    "tags": []
   },
   "outputs": [
    {
     "data": {
      "text/plain": [
       "<dask.config.set at 0x7f3f4678bf40>"
      ]
     },
     "execution_count": 71,
     "metadata": {},
     "output_type": "execute_result"
    }
   ],
   "source": [
    "#setting configuration\n",
    "abtem.config.set({\"device\": \"gpu\", \"fft\": \"fftw\"})\n",
    "dask.config.set({\"num_workers\": 1})"
   ]
  },
  {
   "cell_type": "markdown",
   "id": "cb424699-69b0-4143-9e5f-261ccfa0ca99",
   "metadata": {
    "editable": true,
    "slideshow": {
     "slide_type": ""
    },
    "tags": []
   },
   "source": [
    "#! später noch:\n",
    "SETTINGS -> GPU VERWENDEN!! mit remote connection\n",
    "\n",
    "- struktur vergrößern (derzeit wieder 10x7 statt 20x20)\n",
    "- evtl. number configs\n",
    "- grid_scan: start/ende erweitern"
   ]
  },
  {
   "cell_type": "code",
   "execution_count": 72,
   "id": "98314389-cc66-4c93-aa79-338b00a8cc24",
   "metadata": {
    "editable": true,
    "slideshow": {
     "slide_type": ""
    },
    "tags": []
   },
   "outputs": [
    {
     "name": "stdout",
     "output_type": "stream",
     "text": [
      "20240808144438_hBN_size10x7_single_vacanyB_filledwithO_energy60000_defocus0_Cs-100000_astig10_coma1000\n"
     ]
    }
   ],
   "source": [
    "# Parameters and Settings\n",
    "vacancy_atom = 'B' # enter 'N' for replacement of N-atom, or 'B' for replacement of B-atom\n",
    "defect_atom_symbol = 'O' # symbol of impurity atom(s)\n",
    "defect_type = 'single' #'single'/'double' for calculating potential etc with single/double defect\n",
    "lattice_constant = 2.504 # lattice constant for hBN, https://www.sciencedirect.com/science/article/abs/pii/S0025540815300088\n",
    "size_x = 10 #size of structure\n",
    "size_y = 7\n",
    "\n",
    "#probe #!\n",
    "energy_probe = 60e3\n",
    "defocus = 0 # 0 or f.e.: 'scherzer'\n",
    "semiangle_cutoff = 30 # maybe set to ctf crossover_angle, see below -> probe -> ctf? #!\n",
    "\n",
    "#benchmark: Cs = -10e-6*1e10; astig = 10; coma = 1000; focal_spread = 10.0; angular_spread = 0.0\n",
    "Cs = -10e-6*1e10 #spherical aberration; 10 micrometers\n",
    "astig = 10 #aberration C12, ~few nanometers\n",
    "coma = 1000 # aberration C21, ~few hundred nanometers\n",
    "#focal_spread = 0.0\n",
    "#angular_spread = 0.0\n",
    "\n",
    "#------------------------------------------------------------------------------------------------------------------------------\n",
    "\n",
    "#preparation for path\n",
    "now = datetime.now()\n",
    "now_str = [str(now.year), str(now.month), str(now.day), str(now.hour), str(now.minute), str(now.second),]\n",
    "#make sure date has same length every time \n",
    "for i in range(len(now_str)):\n",
    "    if len(now_str[i]) == 1:\n",
    "        now_str[i] = '0' + now_str[i]\n",
    "now_str = ''.join(now_str)\n",
    "\n",
    "#path\n",
    "path = (f'{now_str}_hBN_size{size_x}x{size_y}_{defect_type}_vacany{vacancy_atom}_filledwith{defect_atom_symbol}_energy{int(energy_probe)}_defocus{defocus}_Cs{int(Cs)}_astig{astig}_coma{coma}')#_focal{int(focal_spread)}_ang{int(angular_spread)}')\n",
    "print(path)"
   ]
  },
  {
   "cell_type": "markdown",
   "id": "a84ae302-3dde-4ec2-8467-5b7e287af6d5",
   "metadata": {},
   "source": [
    "# Atomic structure & Manipulation"
   ]
  },
  {
   "cell_type": "markdown",
   "id": "13a7e726-5a4c-4729-afdd-c20b4e111df1",
   "metadata": {},
   "source": [
    "#### Structure"
   ]
  },
  {
   "cell_type": "code",
   "execution_count": 73,
   "id": "90bd03d0-ee2e-478b-88c3-7ad07c4c682f",
   "metadata": {},
   "outputs": [],
   "source": [
    "#create hBN cell\n",
    "hBN_cell = ase.build.graphene(formula='BN', a=lattice_constant, thickness=0.0, size=(1, 1, 1), vacuum=2)\n",
    "\n",
    "\n",
    "#orthogonalize cell and create structure\n",
    "hBN_orth = abtem.orthogonalize_cell(hBN_cell)\n",
    "hBN = hBN_orth*(size_x, size_y, 1) #!"
   ]
  },
  {
   "cell_type": "markdown",
   "id": "5de4466c-864b-48d8-bd9a-bb94ed64eafd",
   "metadata": {},
   "source": [
    "#### Center Atoms"
   ]
  },
  {
   "cell_type": "code",
   "execution_count": 74,
   "id": "212057ec-21c7-492a-8c1a-bc53bb8d05bd",
   "metadata": {},
   "outputs": [
    {
     "data": {
      "text/plain": [
       "(8,)"
      ]
     },
     "execution_count": 74,
     "metadata": {},
     "output_type": "execute_result"
    }
   ],
   "source": [
    "#find atoms located in the center\n",
    "x_center = max(hBN.positions[:, 0])/2\n",
    "y_center = max(hBN.positions[:, 1])/2\n",
    "\n",
    "mask_center_position_x = ((hBN.positions[:,0] < x_center + lattice_constant)*\n",
    "                          (hBN.positions[:,0] > x_center - lattice_constant))\n",
    "mask_center_position_y = ((hBN.positions[:,1] < y_center + lattice_constant)*\n",
    "                          (hBN.positions[:,1] > y_center - lattice_constant))\n",
    "mask_center = mask_center_position_x * mask_center_position_y\n",
    "\n",
    "center_indices = (np.asarray(np.where(mask_center == True)))[0]\n",
    "center_indices.shape"
   ]
  },
  {
   "cell_type": "markdown",
   "id": "3943aff8-8099-4439-9d0d-0993156694fb",
   "metadata": {},
   "source": [
    "#### Single and Double Defects"
   ]
  },
  {
   "cell_type": "code",
   "execution_count": 75,
   "id": "4d1b5ba1-2476-482f-9273-a3b845b8dfe8",
   "metadata": {},
   "outputs": [
    {
     "name": "stdout",
     "output_type": "stream",
     "text": [
      "Center indices: [124 125 126 127 152 153 154 155]\n",
      "Chosen index single: 127\n",
      "Chosen index double: [127, 125]\n"
     ]
    }
   ],
   "source": [
    "#SINGLE: find index values in the middle of center index array to adress one (or two) specific atom(s)\n",
    "ind = int(len(center_indices)/2 - 1) #center_indices.shape = (1,8);\n",
    "ind_random = center_indices[ind]\n",
    "\n",
    "#check if chosen atom is wanted single defect type and/or (re-)assign\n",
    "if hBN.symbols[ind_random] == vacancy_atom:\n",
    "    ind_single = ind_random\n",
    "else:\n",
    "    ind_single = center_indices[ind + 2]\n",
    "    # +2 because Atoms are saved in the structure [... N N B B N N B...]\n",
    "\n",
    "#for DOUBLE: make sure, the two atoms are neighbours\n",
    "#find distance of next neighbours\n",
    "nnd = round(hBN.get_distance(1, 3),4)\n",
    "\n",
    "for index in center_indices:\n",
    "    index_dist = round(hBN.get_distance(ind_single, index),4)\n",
    "    if index_dist == nnd:\n",
    "        #found next neighbour -> assign second index\n",
    "        ind_double = [ind_single, index]\n",
    "        break\n",
    "    else:\n",
    "        pass\n",
    "    \n",
    "print(f'Center indices: {center_indices}')\n",
    "print(f'Chosen index single: {ind_single}')\n",
    "print(f'Chosen index double: {ind_double}')"
   ]
  },
  {
   "cell_type": "markdown",
   "id": "052d27ad-6ea6-46d3-a5bd-24eb1b5fddff",
   "metadata": {},
   "source": [
    "#### Impurities"
   ]
  },
  {
   "cell_type": "code",
   "execution_count": 76,
   "id": "d5fa3e01-74a1-4bbd-a6c0-e1c433bd8c66",
   "metadata": {},
   "outputs": [],
   "source": [
    "#insert impurity atoms - introducing single and double defects\n",
    "hBN_single = hBN.copy()\n",
    "hBN_double = hBN.copy()\n",
    "\n",
    "hBN_single.symbols[ind_single] = defect_atom_symbol\n",
    "hBN_double.symbols[ind_double] = defect_atom_symbol\n",
    "\n",
    "#plot\n",
    "#fig, (ax1, ax2) = plt.subplots(1, 2, figsize=(12, 4))\n",
    "#abtem.show_atoms(hBN_single, ax=ax1, title='single defect')\n",
    "#abtem.show_atoms(hBN_double, legend=True, figsize=(4,4), ax=ax2, title='double defect')\n",
    "\n",
    "#for ax in (ax1, ax2):\n",
    "#    ax.set_xlim(x_center - 2*lattice_constant, x_center + 2*lattice_constant)\n",
    "#    ax.set_ylim(y_center - 2*lattice_constant, y_center + 2*lattice_constant)\n",
    "    \n",
    "#plt.tight_layout()"
   ]
  },
  {
   "cell_type": "markdown",
   "id": "9c4792f7-26fe-4fb0-a3e5-7ebbe5a13d78",
   "metadata": {},
   "source": [
    "# Potential"
   ]
  },
  {
   "cell_type": "code",
   "execution_count": 77,
   "id": "5cfe5075-c655-4de0-a3b4-75f9edfb69b9",
   "metadata": {},
   "outputs": [
    {
     "data": {
      "text/plain": [
       "Atoms(symbols='B139N140O', pbc=[True, True, False], cell=[25.04, 30.359386555067278, 4.0])"
      ]
     },
     "execution_count": 77,
     "metadata": {},
     "output_type": "execute_result"
    }
   ],
   "source": [
    "#RUN BEFORE CALCULATING POTENTIAL\n",
    "if defect_type == 'double':\n",
    "    hBN_manipulated = hBN_double\n",
    "elif defect_type == 'single':\n",
    "    hBN_manipulated = hBN_single\n",
    "else:\n",
    "    raise KeyboardInterrupt\n",
    "\n",
    "hBN_manipulated"
   ]
  },
  {
   "cell_type": "code",
   "execution_count": 78,
   "id": "c8291bca-77fb-4c59-aa0b-6add74951cfd",
   "metadata": {},
   "outputs": [],
   "source": [
    "#implement frozen phonons (average of random offset-snapshots)\n",
    "frozen_phonons = abtem.FrozenPhonons(hBN_manipulated, num_configs=10, sigmas=0.1) #! num_configs"
   ]
  },
  {
   "cell_type": "code",
   "execution_count": 79,
   "id": "523909cd-bf8f-413d-ad60-9690ec4d00c0",
   "metadata": {},
   "outputs": [
    {
     "data": {
      "text/plain": [
       "(10, 4, 501, 608)"
      ]
     },
     "execution_count": 79,
     "metadata": {},
     "output_type": "execute_result"
    }
   ],
   "source": [
    "#create potential (sampling = physical extent/ gridpoints), slice thickness not usefull - no layers\n",
    "potential = abtem.Potential(frozen_phonons, sampling=0.05)\n",
    "potential.shape"
   ]
  },
  {
   "cell_type": "code",
   "execution_count": 80,
   "id": "5d2eeac5-ce3f-414b-ad1f-8eccaf8becc2",
   "metadata": {},
   "outputs": [],
   "source": [
    "#potential.build().compute()"
   ]
  },
  {
   "cell_type": "markdown",
   "id": "e36acda6-6423-4a25-8599-f0922debb1e6",
   "metadata": {},
   "source": [
    "# Probe"
   ]
  },
  {
   "cell_type": "code",
   "execution_count": 81,
   "id": "84de31dd-3f65-4235-a32d-48d3df83a496",
   "metadata": {
    "editable": true,
    "slideshow": {
     "slide_type": ""
    },
    "tags": []
   },
   "outputs": [],
   "source": [
    "#consider partial temporal coherence (due to energy spread of probe) by building gaussian distributed defocus series\n",
    "#focal_spread = focal_spread\n",
    "#defocus_distribution = abtem.distributions.gaussian(center=0.0, standard_deviation=focal_spread, num_samples=11,\n",
    "#                                                    sampling_limit=2, ensemble_mean=False,)\n",
    "#condider partial spacial coherence (due to source size)\n",
    "#angular_spread = angular_spread\n",
    "\n",
    "#create probe and insert parameters for abberations (ctf)\n",
    "#aberration_coefficients = {'C10': defocus_distribution, 'C30': Cs, 'C12': astig, 'C21': coma}\n",
    "aberration_coefficients = {'C10': defocus, 'C30': Cs, 'C12': astig, 'C21': coma}\n"
   ]
  },
  {
   "cell_type": "code",
   "execution_count": 82,
   "id": "552edeb5-f012-4166-addf-324128474ff0",
   "metadata": {
    "editable": true,
    "slideshow": {
     "slide_type": ""
    },
    "tags": []
   },
   "outputs": [
    {
     "data": {
      "text/plain": [
       "(0.04998003992015968, 0.04993320157083434)"
      ]
     },
     "execution_count": 82,
     "metadata": {},
     "output_type": "execute_result"
    }
   ],
   "source": [
    "probe = abtem.Probe(energy=energy_probe, semiangle_cutoff=semiangle_cutoff, aberrations=aberration_coefficients) #maybe use crossover angle of ctf for semiangle_cutoff? #!\n",
    "probe.grid.match(potential)\n",
    "probe.sampling"
   ]
  },
  {
   "cell_type": "code",
   "execution_count": 83,
   "id": "0124837f-e9d1-4859-89ea-60921fc6c86c",
   "metadata": {
    "editable": true,
    "slideshow": {
     "slide_type": ""
    },
    "tags": []
   },
   "outputs": [
    {
     "name": "stdout",
     "output_type": "stream",
     "text": [
      "[                                        ] | 0% Completed | 101.49 ms\n"
     ]
    },
    {
     "ename": "CUDARuntimeError",
     "evalue": "cudaErrorLaunchFailure: unspecified launch failure",
     "output_type": "error",
     "traceback": [
      "\u001b[0;31m---------------------------------------------------------------------------\u001b[0m",
      "\u001b[0;31mCUDARuntimeError\u001b[0m                          Traceback (most recent call last)",
      "Cell \u001b[0;32mIn[83], line 1\u001b[0m\n\u001b[0;32m----> 1\u001b[0m \u001b[43mprobe\u001b[49m\u001b[38;5;241;43m.\u001b[39;49m\u001b[43mbuild\u001b[49m\u001b[43m(\u001b[49m\u001b[43m)\u001b[49m\u001b[38;5;241;43m.\u001b[39;49m\u001b[43mcompute\u001b[49m\u001b[43m(\u001b[49m\u001b[43m)\u001b[49m\n",
      "File \u001b[0;32m~/data/anaconda3/envs/evamaria_sim/lib/python3.9/site-packages/abtem/array.py:1014\u001b[0m, in \u001b[0;36mArrayObject.compute\u001b[0;34m(self, progress_bar, profiler, resource_profiler, **kwargs)\u001b[0m\n\u001b[1;32m   1011\u001b[0m \u001b[38;5;28;01mif\u001b[39;00m \u001b[38;5;129;01mnot\u001b[39;00m \u001b[38;5;28mself\u001b[39m\u001b[38;5;241m.\u001b[39mis_lazy:\n\u001b[1;32m   1012\u001b[0m     \u001b[38;5;28;01mreturn\u001b[39;00m \u001b[38;5;28mself\u001b[39m\n\u001b[0;32m-> 1014\u001b[0m output, profilers \u001b[38;5;241m=\u001b[39m \u001b[43m_compute\u001b[49m\u001b[43m(\u001b[49m\n\u001b[1;32m   1015\u001b[0m \u001b[43m    \u001b[49m\u001b[43m[\u001b[49m\u001b[38;5;28;43mself\u001b[39;49m\u001b[43m]\u001b[49m\u001b[43m,\u001b[49m\n\u001b[1;32m   1016\u001b[0m \u001b[43m    \u001b[49m\u001b[43mprogress_bar\u001b[49m\u001b[38;5;241;43m=\u001b[39;49m\u001b[43mprogress_bar\u001b[49m\u001b[43m,\u001b[49m\n\u001b[1;32m   1017\u001b[0m \u001b[43m    \u001b[49m\u001b[43mprofiler\u001b[49m\u001b[38;5;241;43m=\u001b[39;49m\u001b[43mprofiler\u001b[49m\u001b[43m,\u001b[49m\n\u001b[1;32m   1018\u001b[0m \u001b[43m    \u001b[49m\u001b[43mresource_profiler\u001b[49m\u001b[38;5;241;43m=\u001b[39;49m\u001b[43mresource_profiler\u001b[49m\u001b[43m,\u001b[49m\n\u001b[1;32m   1019\u001b[0m \u001b[43m    \u001b[49m\u001b[38;5;241;43m*\u001b[39;49m\u001b[38;5;241;43m*\u001b[39;49m\u001b[43mkwargs\u001b[49m\u001b[43m,\u001b[49m\n\u001b[1;32m   1020\u001b[0m \u001b[43m\u001b[49m\u001b[43m)\u001b[49m\n\u001b[1;32m   1022\u001b[0m output \u001b[38;5;241m=\u001b[39m output[\u001b[38;5;241m0\u001b[39m]\n\u001b[1;32m   1024\u001b[0m \u001b[38;5;28;01mif\u001b[39;00m profilers:\n",
      "File \u001b[0;32m~/data/anaconda3/envs/evamaria_sim/lib/python3.9/site-packages/abtem/array.py:239\u001b[0m, in \u001b[0;36m_compute\u001b[0;34m(dask_array_wrappers, progress_bar, profiler, resource_profiler, **kwargs)\u001b[0m\n\u001b[1;32m    234\u001b[0m         kwargs[\u001b[38;5;124m\"\u001b[39m\u001b[38;5;124mthreads_per_worker\u001b[39m\u001b[38;5;124m\"\u001b[39m] \u001b[38;5;241m=\u001b[39m cp\u001b[38;5;241m.\u001b[39mcuda\u001b[38;5;241m.\u001b[39mruntime\u001b[38;5;241m.\u001b[39mgetDeviceCount()\n\u001b[1;32m    236\u001b[0m \u001b[38;5;28;01mwith\u001b[39;00m _compute_context(\n\u001b[1;32m    237\u001b[0m     progress_bar, profiler\u001b[38;5;241m=\u001b[39mprofiler, resource_profiler\u001b[38;5;241m=\u001b[39mresource_profiler\n\u001b[1;32m    238\u001b[0m ) \u001b[38;5;28;01mas\u001b[39;00m (_, profiler, resource_profiler):\n\u001b[0;32m--> 239\u001b[0m     arrays \u001b[38;5;241m=\u001b[39m \u001b[43mdask\u001b[49m\u001b[38;5;241;43m.\u001b[39;49m\u001b[43mcompute\u001b[49m\u001b[43m(\u001b[49m\n\u001b[1;32m    240\u001b[0m \u001b[43m        \u001b[49m\u001b[43m[\u001b[49m\u001b[43mwrapper\u001b[49m\u001b[38;5;241;43m.\u001b[39;49m\u001b[43marray\u001b[49m\u001b[43m \u001b[49m\u001b[38;5;28;43;01mfor\u001b[39;49;00m\u001b[43m \u001b[49m\u001b[43mwrapper\u001b[49m\u001b[43m \u001b[49m\u001b[38;5;129;43;01min\u001b[39;49;00m\u001b[43m \u001b[49m\u001b[43mdask_array_wrappers\u001b[49m\u001b[43m]\u001b[49m\u001b[43m,\u001b[49m\u001b[43m \u001b[49m\u001b[38;5;241;43m*\u001b[39;49m\u001b[38;5;241;43m*\u001b[39;49m\u001b[43mkwargs\u001b[49m\n\u001b[1;32m    241\u001b[0m \u001b[43m    \u001b[49m\u001b[43m)\u001b[49m[\u001b[38;5;241m0\u001b[39m]\n\u001b[1;32m    243\u001b[0m \u001b[38;5;28;01mfor\u001b[39;00m array, wrapper \u001b[38;5;129;01min\u001b[39;00m \u001b[38;5;28mzip\u001b[39m(arrays, dask_array_wrappers):\n\u001b[1;32m    244\u001b[0m     wrapper\u001b[38;5;241m.\u001b[39m_array \u001b[38;5;241m=\u001b[39m array\n",
      "File \u001b[0;32m~/data/anaconda3/envs/evamaria_sim/lib/python3.9/site-packages/dask/base.py:662\u001b[0m, in \u001b[0;36mcompute\u001b[0;34m(traverse, optimize_graph, scheduler, get, *args, **kwargs)\u001b[0m\n\u001b[1;32m    659\u001b[0m     postcomputes\u001b[38;5;241m.\u001b[39mappend(x\u001b[38;5;241m.\u001b[39m__dask_postcompute__())\n\u001b[1;32m    661\u001b[0m \u001b[38;5;28;01mwith\u001b[39;00m shorten_traceback():\n\u001b[0;32m--> 662\u001b[0m     results \u001b[38;5;241m=\u001b[39m \u001b[43mschedule\u001b[49m\u001b[43m(\u001b[49m\u001b[43mdsk\u001b[49m\u001b[43m,\u001b[49m\u001b[43m \u001b[49m\u001b[43mkeys\u001b[49m\u001b[43m,\u001b[49m\u001b[43m \u001b[49m\u001b[38;5;241;43m*\u001b[39;49m\u001b[38;5;241;43m*\u001b[39;49m\u001b[43mkwargs\u001b[49m\u001b[43m)\u001b[49m\n\u001b[1;32m    664\u001b[0m \u001b[38;5;28;01mreturn\u001b[39;00m repack([f(r, \u001b[38;5;241m*\u001b[39ma) \u001b[38;5;28;01mfor\u001b[39;00m r, (f, a) \u001b[38;5;129;01min\u001b[39;00m \u001b[38;5;28mzip\u001b[39m(results, postcomputes)])\n",
      "File \u001b[0;32m~/data/anaconda3/envs/evamaria_sim/lib/python3.9/site-packages/abtem/waves.py:1638\u001b[0m, in \u001b[0;36mProbe._build_waves\u001b[0;34m(waves_builder, wrapped)\u001b[0m\n\u001b[1;32m   1635\u001b[0m \u001b[38;5;28;01mif\u001b[39;00m \u001b[38;5;28mhasattr\u001b[39m(waves_builder, \u001b[38;5;124m\"\u001b[39m\u001b[38;5;124mitem\u001b[39m\u001b[38;5;124m\"\u001b[39m):\n\u001b[1;32m   1636\u001b[0m     waves_builder \u001b[38;5;241m=\u001b[39m waves_builder\u001b[38;5;241m.\u001b[39mitem()\n\u001b[0;32m-> 1638\u001b[0m array \u001b[38;5;241m=\u001b[39m \u001b[43mwaves_builder\u001b[49m\u001b[38;5;241;43m.\u001b[39;49m\u001b[43mpositions\u001b[49m\u001b[38;5;241;43m.\u001b[39;49m\u001b[43m_evaluate_kernel\u001b[49m\u001b[43m(\u001b[49m\u001b[43mwaves_builder\u001b[49m\u001b[43m)\u001b[49m\n\u001b[1;32m   1640\u001b[0m waves \u001b[38;5;241m=\u001b[39m Waves(\n\u001b[1;32m   1641\u001b[0m     array,\n\u001b[1;32m   1642\u001b[0m     energy\u001b[38;5;241m=\u001b[39mwaves_builder\u001b[38;5;241m.\u001b[39menergy,\n\u001b[0;32m   (...)\u001b[0m\n\u001b[1;32m   1646\u001b[0m     ensemble_axes_metadata\u001b[38;5;241m=\u001b[39mwaves_builder\u001b[38;5;241m.\u001b[39mpositions\u001b[38;5;241m.\u001b[39mensemble_axes_metadata,\n\u001b[1;32m   1647\u001b[0m )\n\u001b[1;32m   1649\u001b[0m waves \u001b[38;5;241m=\u001b[39m waves\u001b[38;5;241m.\u001b[39mapply_transform(waves_builder\u001b[38;5;241m.\u001b[39maperture)\n",
      "File \u001b[0;32m~/data/anaconda3/envs/evamaria_sim/lib/python3.9/site-packages/abtem/scan.py:132\u001b[0m, in \u001b[0;36mBaseScan._evaluate_kernel\u001b[0;34m(self, waves)\u001b[0m\n\u001b[1;32m    129\u001b[0m \u001b[38;5;28;01mif\u001b[39;00m \u001b[38;5;28mlen\u001b[39m(positions) \u001b[38;5;241m==\u001b[39m \u001b[38;5;241m0\u001b[39m:\n\u001b[1;32m    130\u001b[0m     \u001b[38;5;28;01mreturn\u001b[39;00m xp\u001b[38;5;241m.\u001b[39mones(waves\u001b[38;5;241m.\u001b[39mgpts, dtype\u001b[38;5;241m=\u001b[39mxp\u001b[38;5;241m.\u001b[39mcomplex64)\n\u001b[0;32m--> 132\u001b[0m positions \u001b[38;5;241m=\u001b[39m \u001b[43mxp\u001b[49m\u001b[38;5;241;43m.\u001b[39;49m\u001b[43masarray\u001b[49m\u001b[43m(\u001b[49m\u001b[43mpositions\u001b[49m\u001b[43m)\u001b[49m \u001b[38;5;241m/\u001b[39m xp\u001b[38;5;241m.\u001b[39masarray(waves\u001b[38;5;241m.\u001b[39msampling)\u001b[38;5;241m.\u001b[39mastype(\n\u001b[1;32m    133\u001b[0m     np\u001b[38;5;241m.\u001b[39mfloat32\n\u001b[1;32m    134\u001b[0m )\n\u001b[1;32m    136\u001b[0m kernel \u001b[38;5;241m=\u001b[39m fft_shift_kernel(positions, shape\u001b[38;5;241m=\u001b[39mwaves\u001b[38;5;241m.\u001b[39mgpts)\n\u001b[1;32m    138\u001b[0m \u001b[38;5;28;01mtry\u001b[39;00m:\n",
      "File \u001b[0;32m~/data/anaconda3/envs/evamaria_sim/lib/python3.9/site-packages/cupy/_creation/from_data.py:88\u001b[0m, in \u001b[0;36masarray\u001b[0;34m(a, dtype, order, blocking)\u001b[0m\n\u001b[1;32m     56\u001b[0m \u001b[38;5;28;01mdef\u001b[39;00m \u001b[38;5;21masarray\u001b[39m(a, dtype\u001b[38;5;241m=\u001b[39m\u001b[38;5;28;01mNone\u001b[39;00m, order\u001b[38;5;241m=\u001b[39m\u001b[38;5;28;01mNone\u001b[39;00m, \u001b[38;5;241m*\u001b[39m, blocking\u001b[38;5;241m=\u001b[39m\u001b[38;5;28;01mFalse\u001b[39;00m):\n\u001b[1;32m     57\u001b[0m \u001b[38;5;250m    \u001b[39m\u001b[38;5;124;03m\"\"\"Converts an object to array.\u001b[39;00m\n\u001b[1;32m     58\u001b[0m \n\u001b[1;32m     59\u001b[0m \u001b[38;5;124;03m    This is equivalent to ``array(a, dtype, copy=False, order=order)``.\u001b[39;00m\n\u001b[0;32m   (...)\u001b[0m\n\u001b[1;32m     86\u001b[0m \n\u001b[1;32m     87\u001b[0m \u001b[38;5;124;03m    \"\"\"\u001b[39;00m\n\u001b[0;32m---> 88\u001b[0m     \u001b[38;5;28;01mreturn\u001b[39;00m \u001b[43m_core\u001b[49m\u001b[38;5;241;43m.\u001b[39;49m\u001b[43marray\u001b[49m\u001b[43m(\u001b[49m\u001b[43ma\u001b[49m\u001b[43m,\u001b[49m\u001b[43m \u001b[49m\u001b[43mdtype\u001b[49m\u001b[43m,\u001b[49m\u001b[43m \u001b[49m\u001b[38;5;28;43;01mFalse\u001b[39;49;00m\u001b[43m,\u001b[49m\u001b[43m \u001b[49m\u001b[43morder\u001b[49m\u001b[43m,\u001b[49m\u001b[43m \u001b[49m\u001b[43mblocking\u001b[49m\u001b[38;5;241;43m=\u001b[39;49m\u001b[43mblocking\u001b[49m\u001b[43m)\u001b[49m\n",
      "File \u001b[0;32mcupy/_core/core.pyx:2383\u001b[0m, in \u001b[0;36mcupy._core.core.array\u001b[0;34m()\u001b[0m\n",
      "File \u001b[0;32mcupy/_core/core.pyx:2410\u001b[0m, in \u001b[0;36mcupy._core.core.array\u001b[0;34m()\u001b[0m\n",
      "File \u001b[0;32mcupy/_core/core.pyx:2574\u001b[0m, in \u001b[0;36mcupy._core.core._array_default\u001b[0;34m()\u001b[0m\n",
      "File \u001b[0;32mcupy/cuda/memory.pyx:481\u001b[0m, in \u001b[0;36mcupy.cuda.memory.MemoryPointer.copy_from_host_async\u001b[0;34m()\u001b[0m\n",
      "File \u001b[0;32mcupy_backends/cuda/api/runtime.pyx:933\u001b[0m, in \u001b[0;36mcupy_backends.cuda.api.runtime.streamIsCapturing\u001b[0;34m()\u001b[0m\n",
      "File \u001b[0;32mcupy_backends/cuda/api/runtime.pyx:146\u001b[0m, in \u001b[0;36mcupy_backends.cuda.api.runtime.check_status\u001b[0;34m()\u001b[0m\n",
      "\u001b[0;31mCUDARuntimeError\u001b[0m: cudaErrorLaunchFailure: unspecified launch failure"
     ]
    }
   ],
   "source": [
    "probe.build().compute()"
   ]
  },
  {
   "cell_type": "markdown",
   "id": "42ddff51-8eb9-4987-8f8b-24a3bc33fa38",
   "metadata": {},
   "source": [
    "# Scan & Detect"
   ]
  },
  {
   "cell_type": "code",
   "execution_count": null,
   "id": "13318ca6-af73-44e5-a883-5b5f57bc08ec",
   "metadata": {
    "editable": true,
    "slideshow": {
     "slide_type": ""
    },
    "tags": []
   },
   "outputs": [],
   "source": [
    "#choose Nyquist sampling for scan\n",
    "sampling = probe.aperture.nyquist_sampling\n",
    "print(f'Nyquist sampling: {sampling:.3f} Å/pixel')"
   ]
  },
  {
   "cell_type": "code",
   "execution_count": null,
   "id": "dcae1f9c-bbb0-42ac-a34d-ef2a38a91543",
   "metadata": {},
   "outputs": [],
   "source": [
    "#setup for grid scan\n",
    "#gridscan = abtem.GridScan(start=[3.5/10, 4/10], end=[6/10, 6/10], fractional = True,\n",
    "#                     potential=potential, sampling=sampling) \n",
    "gridscan = abtem.GridScan(start=[0, 0], end=[10/10, 10/10], fractional = True,\n",
    "                     potential=potential, sampling=sampling) #!\n",
    "#gridscan = abtem.GridScan(start=[2/10, 3/10], end=[7/10, 7/10], fractional = True,\n",
    "#                     potential=potential, sampling=sampling) #!\n",
    "fig, ax = abtem.show_atoms(hBN_manipulated, figsize=(4,4), legend=True)\n",
    "gridscan.add_to_plot(ax)"
   ]
  },
  {
   "cell_type": "code",
   "execution_count": null,
   "id": "eb351886-6c2c-4265-a4af-575c0a95a233",
   "metadata": {
    "editable": true,
    "slideshow": {
     "slide_type": ""
    },
    "tags": []
   },
   "outputs": [],
   "source": [
    "#setup detectors\n",
    "#flex_an_detector = abtem.FlexibleAnnularDetector(step_size=1, inner=60, outer=200) #stepsize of detector 1 mrad\n",
    "detector_maadf = abtem.AnnularDetector(inner=60, outer=200)"
   ]
  },
  {
   "cell_type": "code",
   "execution_count": null,
   "id": "3655e7f5-158f-4984-b1b2-2ee15c1a9679",
   "metadata": {
    "editable": true,
    "slideshow": {
     "slide_type": ""
    },
    "tags": []
   },
   "outputs": [],
   "source": [
    "#apply scan & detectors\n",
    "#measurements_total = probe.scan(potential, scan=gridscan, detectors=flex_an_detector)\n",
    "measurements_total = probe.scan(potential, scan=gridscan, detectors=detector_maadf)"
   ]
  },
  {
   "cell_type": "markdown",
   "id": "c67a1f17-2f00-4601-b4cb-181675832baf",
   "metadata": {},
   "source": [
    "# Export & Import"
   ]
  },
  {
   "cell_type": "code",
   "execution_count": null,
   "id": "a0f35be0-8676-4dc2-bea9-c08ccea388ee",
   "metadata": {},
   "outputs": [],
   "source": [
    "#compute and EXPORT... \n",
    "measurements_total.to_zarr(f'./data/{path}_RAW.zarr')\n",
    "\n",
    "#and/or IMPORT from file\n",
    "imported_measurements = abtem.from_zarr(f'./data/{path}_RAW.zarr')\n",
    "#imported_measurements = abtem.from_zarr(f'./data/RAW_{path_old}.zarr')\n",
    "#imported_measurements = abtem.from_zarr('C:/Users/evama/INSERTPATH').compute()"
   ]
  },
  {
   "cell_type": "markdown",
   "id": "9e24d82b-9aca-4117-8b4a-1bea5fd90320",
   "metadata": {},
   "source": [
    "# Postprocessing"
   ]
  },
  {
   "cell_type": "code",
   "execution_count": null,
   "id": "dd07bae6-6134-49dd-a930-8f127a9b63d5",
   "metadata": {},
   "outputs": [],
   "source": [
    "#set parameters for postprocessing\n",
    "#pairs: interpolate:0.01 & gauss: 0.2;  interpolate:0.05 & gauss: 0.3\n",
    "#interpolate-> higher value (0.1) more pixels; low value -> smoother, more time\n",
    "interpolate = 0.02\n",
    "gauss = 0.1\n",
    "dose = 1e9\n",
    "\n",
    "path_final = (f'{path}_interpol{interpolate}_gauss{gauss}_dose{dose}')\n",
    "#path_final = (f'{path_old}_interpol{interpolate}_gauss{gauss}_dose{dose}') #-> for multiple postprocessing versions\n",
    "print(path_final)"
   ]
  },
  {
   "cell_type": "code",
   "execution_count": null,
   "id": "616cc312-93bc-4527-8471-2a091510d3b9",
   "metadata": {
    "editable": true,
    "slideshow": {
     "slide_type": ""
    },
    "tags": []
   },
   "outputs": [],
   "source": [
    "#assign detectors\n",
    "#bf_measurement = imported_measurements.integrate_radial(0, probe.semiangle_cutoff)\n",
    "maadf_measurement = imported_measurements#.integrate_radial(60, 200)\n",
    "#haadf_measurement = imported_measurements.integrate_radial(80, 200)\n",
    "\n",
    "#..and plot\n",
    "measurements = maadf_measurement\n",
    "measurements.show(figsize=(14, 5), cbar=True,);"
   ]
  },
  {
   "cell_type": "code",
   "execution_count": null,
   "id": "85502310-ad8e-4851-8d8f-e8c9a1a90c9d",
   "metadata": {},
   "outputs": [],
   "source": [
    "#interpolate to smooth images and apply gaussian filter to consider partial spatial coherence (I think?) #!\n",
    "#...or additionally add gaussian.source_size, see https://abtem.readthedocs.io/en/latest/user_guide/tutorials/partial_coherence.html#partial-coherence-with-probes\n",
    "final_measurements = measurements.interpolate(interpolate).gaussian_filter(gauss)\n",
    "\n",
    "#plot\n",
    "final_measurements.show(explode=True, figsize=(14, 5), cbar=True)\n"
   ]
  },
  {
   "cell_type": "code",
   "execution_count": null,
   "id": "f18069f9-ee44-469e-9cf4-0ff58bfe80a8",
   "metadata": {},
   "outputs": [],
   "source": []
  },
  {
   "cell_type": "code",
   "execution_count": null,
   "id": "acf8ea31",
   "metadata": {
    "editable": true,
    "slideshow": {
     "slide_type": ""
    },
    "tags": []
   },
   "outputs": [],
   "source": [
    "#noise to account for finite electrone dose -> statistic deviation (see abtem walkthrough -> scan & detect)\n",
    "#before applying noise tile measurements for better statistics -> maybe unnecessary with larger scanning area\n",
    "#tiled_measurements = final_measurements.tile((7, 4)).compute()\n",
    "#noisy_measurements = tiled_measurements.poisson_noise(dose_per_area=1e9, seed=100)\n",
    "\n",
    "noisy_measurements = final_measurements.poisson_noise(dose_per_area=dose, seed=100)\n",
    "noisy_measurements.show(explode=True, figsize=(12, 4))\n",
    "\n",
    "#zoom in\n",
    "#plt.xlim(0,2)\n",
    "#plt.ylim(0,2)"
   ]
  },
  {
   "cell_type": "code",
   "execution_count": null,
   "id": "4b9deb0c",
   "metadata": {
    "editable": true,
    "slideshow": {
     "slide_type": ""
    },
    "tags": []
   },
   "outputs": [],
   "source": [
    "#export\n",
    "noisy_measurements.to_zarr(f'./data/{path_final}_FINAL.zarr')\n",
    "#noisy_measurements.to_zarr(f'./data/FINAL2_{path_old}.zarr')"
   ]
  },
  {
   "cell_type": "code",
   "execution_count": null,
   "id": "1e31071c",
   "metadata": {},
   "outputs": [],
   "source": [
    "import_new = abtem.from_zarr(f'./data/{path_final}_FINAL.zarr')\n",
    "#import_new = abtem.from_zarr(f'/home/torchuser/data/evamaria/data/FINAL_hBN_double_vacanyB_filledwithO_energy60000_defocusscherzer_Cs0_focal0_ang0_Date202482_151611_interpol0.02_gauss0.3_dose1000000000.0.zarr')\n",
    "import_new.show(explode=True)"
   ]
  },
  {
   "cell_type": "code",
   "execution_count": null,
   "id": "148fe73b-06a3-40f8-a04c-dbb7a5350c9a",
   "metadata": {
    "editable": true,
    "slideshow": {
     "slide_type": ""
    },
    "tags": []
   },
   "outputs": [],
   "source": [
    "#reassign path variable to avoid overwriting\n",
    "path_old = path\n",
    "path_final_old = path_final\n",
    "\n",
    "now = datetime.now()\n",
    "now_str = [str(now.year), str(now.month), str(now.day), str(now.hour), str(now.minute), str(now.second),]\n",
    "#make sure date has same length every time \n",
    "for i in range(len(now_str)):\n",
    "    if len(now_str[i]) == 1:\n",
    "        now_str[i] = '0' + now_str[i]\n",
    "now_str = ''.join(now_str)\n",
    "\n",
    "path = (f'{now_str}_hBN_{defect_type}_vacany{vacancy_atom}_filledwith{defect_atom_symbol}_energy{int(energy_probe)}_defocus{defocus}_Cs{int(Cs)}_astig{astig}_coma{coma}')#_focal{int(focal_spread)}_ang{int(angular_spread)}_Date{now.year}{now.month}{now.day}_{now.hour}{now.minute}{now.second}')\n",
    "path_final = (f'{path}_interpol{interpolate}_gauss{gauss}_dose{dose}')\n",
    "\n",
    "print(path_old)\n",
    "print(path)"
   ]
  },
  {
   "cell_type": "code",
   "execution_count": null,
   "id": "cb839b4f-39f2-4f82-ae15-19f01b757504",
   "metadata": {
    "editable": true,
    "slideshow": {
     "slide_type": ""
    },
    "tags": []
   },
   "outputs": [],
   "source": []
  }
 ],
 "metadata": {
  "kernelspec": {
   "display_name": "Python 3 (ipykernel)",
   "language": "python",
   "name": "python3"
  },
  "language_info": {
   "codemirror_mode": {
    "name": "ipython",
    "version": 3
   },
   "file_extension": ".py",
   "mimetype": "text/x-python",
   "name": "python",
   "nbconvert_exporter": "python",
   "pygments_lexer": "ipython3",
   "version": "3.9.19"
  }
 },
 "nbformat": 4,
 "nbformat_minor": 5
}
